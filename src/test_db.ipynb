{
 "cells": [
  {
   "cell_type": "code",
   "execution_count": 1,
   "id": "5486bb8c-ce3a-4693-aacc-e06c7e1244f9",
   "metadata": {},
   "outputs": [],
   "source": [
    "import configparser\n",
    "import psycopg2"
   ]
  },
  {
   "cell_type": "code",
   "execution_count": 2,
   "id": "c26c0caf-b566-4e1c-b934-221c67112e9e",
   "metadata": {},
   "outputs": [
    {
     "data": {
      "text/plain": [
       "['dwh.cfg']"
      ]
     },
     "execution_count": 2,
     "metadata": {},
     "output_type": "execute_result"
    }
   ],
   "source": [
    "config = configparser.ConfigParser()\n",
    "config.read('dwh.cfg')"
   ]
  },
  {
   "cell_type": "code",
   "execution_count": 3,
   "id": "3913efdd-30ea-486e-8604-dcf4ce155364",
   "metadata": {},
   "outputs": [],
   "source": [
    "conn = psycopg2.connect(\"host={} dbname={} user={} password={} port={}\".format(*config['CLUSTER'].values()))\n",
    "conn.set_session(autocommit=True)\n",
    "cur = conn.cursor()"
   ]
  },
  {
   "cell_type": "code",
   "execution_count": 4,
   "id": "5f730856-9ad0-4447-bbe1-79654b9ccf21",
   "metadata": {},
   "outputs": [],
   "source": [
    "tables = ['log_data_staging','song_data_staging','songplays_fact','user_dim','songs_dim','artist_dim','time_dim']\n",
    "queries = {table:f'select count(*) from {table};' for table in tables}"
   ]
  },
  {
   "cell_type": "code",
   "execution_count": 5,
   "id": "a8458da9-d637-418b-9c20-f47746e40f2c",
   "metadata": {},
   "outputs": [
    {
     "name": "stdout",
     "output_type": "stream",
     "text": [
      "log_data_staging (8056,)\n",
      "song_data_staging (14896,)\n",
      "songplays_fact (13640,)\n",
      "user_dim (192,)\n",
      "songs_dim (29792,)\n",
      "artist_dim (20050,)\n",
      "time_dim (13626,)\n"
     ]
    }
   ],
   "source": [
    "for table in queries:\n",
    "    query = queries[table]\n",
    "    cur.execute(query)\n",
    "    print(table,cur.fetchall()[0])"
   ]
  },
  {
   "cell_type": "code",
   "execution_count": 6,
   "id": "6a2271e2-37d0-44d4-b51c-1383170930be",
   "metadata": {},
   "outputs": [],
   "source": [
    "conn.close()"
   ]
  },
  {
   "cell_type": "code",
   "execution_count": null,
   "id": "87163053-b83c-4099-b7bc-c765884d5132",
   "metadata": {},
   "outputs": [],
   "source": []
  }
 ],
 "metadata": {
  "kernelspec": {
   "display_name": "Python 3 (ipykernel)",
   "language": "python",
   "name": "python3"
  },
  "language_info": {
   "codemirror_mode": {
    "name": "ipython",
    "version": 3
   },
   "file_extension": ".py",
   "mimetype": "text/x-python",
   "name": "python",
   "nbconvert_exporter": "python",
   "pygments_lexer": "ipython3",
   "version": "3.8.15"
  }
 },
 "nbformat": 4,
 "nbformat_minor": 5
}
